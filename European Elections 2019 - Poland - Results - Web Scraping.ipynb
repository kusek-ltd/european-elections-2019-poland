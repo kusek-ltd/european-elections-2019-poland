{
 "cells": [
  {
   "cell_type": "markdown",
   "metadata": {},
   "source": [
    "https://wybory.gov.pl/pe2019/pl/wyniki/protokol/485230\n",
    "\n",
    "https://selenium-python.readthedocs.io/api.html\n",
    "\n",
    "https://stackoverflow.com/questions/23110383/how-to-dynamically-build-a-json-object-with-python"
   ]
  },
  {
   "cell_type": "code",
   "execution_count": 32,
   "metadata": {},
   "outputs": [],
   "source": [
    "import pandas as pd\n",
    "from selenium import webdriver\n",
    "import os\n",
    "\n",
    "projectDirectory = \"/home/lukek/Projects/github/lukasz-kusek/european-elections-2019-poland\""
   ]
  },
  {
   "cell_type": "code",
   "execution_count": 22,
   "metadata": {},
   "outputs": [],
   "source": [
    "options = webdriver.ChromeOptions() \n",
    "options.add_argument('headless')\n",
    "driver = webdriver.Chrome(options=options)"
   ]
  },
  {
   "cell_type": "code",
   "execution_count": 33,
   "metadata": {},
   "outputs": [],
   "source": [
    "obwody_glosowania = pd.read_csv(os.path.join(projectDirectory, 'dane_statyczne', 'obwody_glosowania.csv'), sep = ';')"
   ]
  },
  {
   "cell_type": "code",
   "execution_count": 34,
   "metadata": {},
   "outputs": [
    {
     "name": "stdout",
     "output_type": "stream",
     "text": [
      "[ 20101  20102  20103 ... 326101 326201 326301]\n"
     ]
    }
   ],
   "source": [
    "TERYT_codes = obwody_glosowania['TERYT gminy'].unique()\n",
    "print(TERYT_codes)"
   ]
  },
  {
   "cell_type": "code",
   "execution_count": 35,
   "metadata": {},
   "outputs": [
    {
     "name": "stdout",
     "output_type": "stream",
     "text": [
      "['457895', '457896', '457897', '457898', '457899', '457900', '457901', '457902', '457903', '457904', '457905', '457906', '457907', '457908', '457909', '457910', '457911', '457912', '457913', '457914', '457915', '485228', '485229', '485230']\n"
     ]
    }
   ],
   "source": [
    "def get_protocols_ids(gmina_id):\n",
    "    driver.get('https://wybory.gov.pl/pe2019/pl/wyniki/gm/' + gmina_id)\n",
    "    results = driver.find_elements_by_css_selector(\"div.proto tbody tr\")\n",
    "    return list(map(lambda elem: elem.get_attribute(\"data-id\"), results))\n",
    "    \n",
    "print(get_protocols_ids('20101'))"
   ]
  },
  {
   "cell_type": "code",
   "execution_count": 55,
   "metadata": {},
   "outputs": [
    {
     "name": "stdout",
     "output_type": "stream",
     "text": [
      "<dl class=\"dl-horizontal info\"><dt>Siedziba</dt><dd>Szkoła Podstawowa Nr 3, ul. Ceramiczna 5, 59-700 Bolesławiec</dd><dt>Numer</dt><dd>1</dd><dt>Okręg wyborczy</dt><dd><span style=\"display:none\">012</span>Nr 12 [Wrocław]</dd><dt>Kod TERYT</dt><dd>020101</dd><dt>Województwo</dt><dd>dolnośląskie</dd><dt>Powiat</dt><dd>bolesławiecki</dd><dt>Gmina</dt><dd>m. Bolesławiec</dd></dl>\n",
      "<div class=\"lists\"><div><h3>Nr listy 1 - KOMITET WYBORCZY WYBORCÓW KONFEDERACJA KORWIN BRAUN LIROY NARODOWCY</h3><div class=\"table-responsive\"><table class=\"table table-bordered table-striped table-hover right3\"><thead><tr><th>Numer</th><th>Nazwisko i imiona</th><th>Liczba głosów</th></tr></thead><tbody><tr><td>1</td><td>IWASZKIEWICZ Robert Jarosław</td><td><div class=\"hidden\">0000000012</div>12</td></tr><tr><td>2</td><td>ŻUREK Piotr Grzegorz</td><td><div class=\"hidden\">0000000000</div>0</td></tr><tr><td>3</td><td>POPLICHA Dagmara Ewa</td><td><div class=\"hidden\">0000000000</div>0</td></tr><tr><td>4</td><td>SZKARUPSKI Daniel</td><td><div class=\"hidden\">0000000000</div>0</td></tr><tr><td>5</td><td>CZERNIAK Hubert Stanisław</td><td><div class=\"hidden\">0000000014</div>14</td></tr><tr><td>6</td><td>GIELERT Katarzyna Zofia</td><td><div class=\"hidden\">0000000000</div>0</td></tr><tr><td>7</td><td>JARMUŁOWICZ Lidia Maria</td><td><div class=\"hidden\">0000000000</div>0</td></tr><tr><td>8</td><td>BIELECKA Halszka Beata</td><td><div class=\"hidden\">0000000000</div>0</td></tr><tr><td>9</td><td>DASZYŃSKA-HERCUŃ Anna Maria</td><td><div class=\"hidden\">0000000000</div>0</td></tr><tr><td>10</td><td>KORWIN-MIKKE Janusz Ryszard</td><td><div class=\"hidden\">0000000009</div>9</td></tr></tbody><tfoot><tr><td></td><td class=\"text-right\">Razem</td><td>35</td></tr></tfoot></table></div></div><div><h3>Nr listy 2 - KOMITET WYBORCZY WIOSNA ROBERTA BIEDRONIA</h3><div class=\"table-responsive\"><table class=\"table table-bordered table-striped table-hover right3\"><thead><tr><th>Numer</th><th>Nazwisko i imiona</th><th>Liczba głosów</th></tr></thead><tbody><tr><td>1</td><td>ŚMISZEK Krzysztof Jan</td><td><div class=\"hidden\">0000000021</div>21</td></tr><tr><td>2</td><td>LUBINIECKA-RÓŻYŁO Katarzyna Elżbieta</td><td><div class=\"hidden\">0000000005</div>5</td></tr><tr><td>3</td><td>CHOJNOWSKI Szymon Piotr</td><td><div class=\"hidden\">0000000003</div>3</td></tr><tr><td>4</td><td>MIGOCZ Izabela Monika</td><td><div class=\"hidden\">0000000001</div>1</td></tr><tr><td>5</td><td>SYSKA Michał Jan</td><td><div class=\"hidden\">0000000001</div>1</td></tr><tr><td>6</td><td>LEMPART Marta Mirosława</td><td><div class=\"hidden\">0000000006</div>6</td></tr><tr><td>7</td><td>PILC Jarosław Stanisław</td><td><div class=\"hidden\">0000000001</div>1</td></tr><tr><td>8</td><td>ODROWSKA Katarzyna</td><td><div class=\"hidden\">0000000001</div>1</td></tr><tr><td>9</td><td>ZATKA Natalia Iwona</td><td><div class=\"hidden\">0000000001</div>1</td></tr><tr><td>10</td><td>KOTARBA Mariusz</td><td><div class=\"hidden\">0000000000</div>0</td></tr></tbody><tfoot><tr><td></td><td class=\"text-right\">Razem</td><td>40</td></tr></tfoot></table></div></div><div><h3>Nr listy 3 - KOALICYJNY KOMITET WYBORCZY KOALICJA EUROPEJSKA PO PSL SLD .N ZIELONI</h3><div class=\"table-responsive\"><table class=\"table table-bordered table-striped table-hover right3\"><thead><tr><th>Numer</th><th>Nazwisko i imiona</th><th>Liczba głosów</th></tr></thead><tbody><tr><td>1</td><td>OCHOJSKA-OKOŃSKA Janina Maria</td><td><div class=\"hidden\">0000000167</div>167</td></tr><tr><td>2</td><td>DUDA Jarosław</td><td><div class=\"hidden\">0000000023</div>23</td></tr><tr><td>3</td><td>SEKUŁA-SZMAJDZIŃSKA Małgorzata Helena</td><td><div class=\"hidden\">0000000052</div>52</td></tr><tr><td>4</td><td>BUŁA Andrzej</td><td><div class=\"hidden\">0000000002</div>2</td></tr><tr><td>5</td><td>ROKICKA Julia Agata</td><td><div class=\"hidden\">0000000005</div>5</td></tr><tr><td>6</td><td>MRZYGŁOCKA Izabela Katarzyna</td><td><div class=\"hidden\">0000000002</div>2</td></tr><tr><td>7</td><td>KOZAKIEWICZ Władysław</td><td><div class=\"hidden\">0000000004</div>4</td></tr><tr><td>8</td><td>STĘPIEŃ Elżbieta Krystyna</td><td><div class=\"hidden\">0000000002</div>2</td></tr><tr><td>9</td><td>PROROK Genowefa Katarzyna</td><td><div class=\"hidden\">0000000000</div>0</td></tr><tr><td>10</td><td>MIESZKOWSKI Krzysztof</td><td><div class=\"hidden\">0000000007</div>7</td></tr></tbody><tfoot><tr><td></td><td class=\"text-right\">Razem</td><td>264</td></tr></tfoot></table></div></div><div><h3>Nr listy 4 - KOMITET WYBORCZY PRAWO I SPRAWIEDLIWOŚĆ</h3><div class=\"table-responsive\"><table class=\"table table-bordered table-striped table-hover right3\"><thead><tr><th>Numer</th><th>Nazwisko i imiona</th><th>Liczba głosów</th></tr></thead><tbody><tr><td>1</td><td>ZALEWSKA Anna Elżbieta</td><td><div class=\"hidden\">0000000111</div>111</td></tr><tr><td>2</td><td>KEMPA Beata Agnieszka</td><td><div class=\"hidden\">0000000110</div>110</td></tr><tr><td>3</td><td>KŁOSOWSKI Sławomir</td><td><div class=\"hidden\">0000000012</div>12</td></tr><tr><td>4</td><td>KISIELEWICZ Andrzej Marian</td><td><div class=\"hidden\">0000000003</div>3</td></tr><tr><td>5</td><td>SZWED Aleksander Jakub</td><td><div class=\"hidden\">0000000004</div>4</td></tr><tr><td>6</td><td>ŚLUSARZ Rafał Józef</td><td><div class=\"hidden\">0000000009</div>9</td></tr><tr><td>7</td><td>CZOCHARA Katarzyna Beata</td><td><div class=\"hidden\">0000000002</div>2</td></tr><tr><td>8</td><td>BACZYŃSKI Jacek Marcin</td><td><div class=\"hidden\">0000000005</div>5</td></tr><tr><td>9</td><td>ŻOŁNIERUK Beata Izabela</td><td><div class=\"hidden\">0000000000</div>0</td></tr><tr><td>10</td><td>STACHOWIAK-RÓŻECKA Mirosława Agnieszka</td><td><div class=\"hidden\">0000000007</div>7</td></tr></tbody><tfoot><tr><td></td><td class=\"text-right\">Razem</td><td>263</td></tr></tfoot></table></div></div><div><h3>Nr listy 5 - KOALICYJNY KOMITET WYBORCZY LEWICA RAZEM - PARTIA RAZEM, UNIA PRACY, RSS</h3><div class=\"table-responsive\"><table class=\"table table-bordered table-striped table-hover right3\"><thead><tr><th>Numer</th><th>Nazwisko i imiona</th><th>Liczba głosów</th></tr></thead><tbody><tr><td>1</td><td>ZAWISZA Marcelina Monika</td><td><div class=\"hidden\">0000000004</div>4</td></tr><tr><td>2</td><td>PRZYSTAJKO Jerzy</td><td><div class=\"hidden\">0000000000</div>0</td></tr><tr><td>3</td><td>PIWCEWICZ Jolanta Anna</td><td><div class=\"hidden\">0000000000</div>0</td></tr><tr><td>4</td><td>BROWARNY Wojciech Jan</td><td><div class=\"hidden\">0000000000</div>0</td></tr><tr><td>5</td><td>JAROŃSKA Kamila Maria</td><td><div class=\"hidden\">0000000000</div>0</td></tr><tr><td>6</td><td>MAKÓWKA Jacek Edward</td><td><div class=\"hidden\">0000000000</div>0</td></tr><tr><td>7</td><td>STABROWSKA Anna Ewa</td><td><div class=\"hidden\">0000000000</div>0</td></tr><tr><td>8</td><td>DROST Andrzej Oswald</td><td><div class=\"hidden\">0000000000</div>0</td></tr><tr><td>9</td><td>BURAKOWSKA Krystyna Anna</td><td><div class=\"hidden\">0000000000</div>0</td></tr><tr><td>10</td><td>CHUDY Filip</td><td><div class=\"hidden\">0000000000</div>0</td></tr></tbody><tfoot><tr><td></td><td class=\"text-right\">Razem</td><td>4</td></tr></tfoot></table></div></div><div><h3>Nr listy 6 - KOMITET WYBORCZY WYBORCÓW KUKIZ'15</h3><div class=\"table-responsive\"><table class=\"table table-bordered table-striped table-hover right3\"><thead><tr><th>Numer</th><th>Nazwisko i imiona</th><th>Liczba głosów</th></tr></thead><tbody><tr><td>1</td><td>ŚCIGAJ Agnieszka</td><td><div class=\"hidden\">0000000008</div>8</td></tr><tr><td>2</td><td>GRABOWSKI Paweł</td><td><div class=\"hidden\">0000000006</div>6</td></tr><tr><td>3</td><td>MAZUR Aneta</td><td><div class=\"hidden\">0000000004</div>4</td></tr><tr><td>4</td><td>KUBALA Marek Zdzisław</td><td><div class=\"hidden\">0000000002</div>2</td></tr><tr><td>5</td><td>LICZNAR Katarzyna Anna</td><td><div class=\"hidden\">0000000000</div>0</td></tr><tr><td>6</td><td>CHARYTONIUK Gracjan</td><td><div class=\"hidden\">0000000000</div>0</td></tr><tr><td>7</td><td>OLSZEWSKA Małgorzata</td><td><div class=\"hidden\">0000000002</div>2</td></tr><tr><td>8</td><td>JAGIEŁŁO Wojciech Jan</td><td><div class=\"hidden\">0000000003</div>3</td></tr><tr><td>9</td><td>ZYCH Anna</td><td><div class=\"hidden\">0000000004</div>4</td></tr><tr><td>10</td><td>KRÓLAK Marcin Stanisław</td><td><div class=\"hidden\">0000000000</div>0</td></tr></tbody><tfoot><tr><td></td><td class=\"text-right\">Razem</td><td>29</td></tr></tfoot></table></div></div></div>\n",
      "{'info': <selenium.webdriver.remote.webelement.WebElement (session=\"b9a0fed4623f599f004c239d7453f646\", element=\"0.2939654334852202-1\")>, 'cards': [{'id': '1.', 'name': 'Komisja otrzymała kart do głosowania', 'count': '1213'}, {'id': '2.', 'name': 'Liczba wyborców uprawnionych do głosowania (umieszczonych w spisie, z uwzględnieniem dodatkowych formularzy) w chwili zakończenia głosowania', 'count': '1543'}, {'id': '2a.', 'name': 'w tym umieszczonych w części A spisu wyborców (obywatele polscy)', 'count': '1543'}, {'id': '2b.', 'name': 'w tym umieszczonych w części B spisu wyborców (obywatele UE niebędący obywatelami polskimi)', 'count': '0'}, {'id': '3.', 'name': 'Nie wykorzystano kart do głosowania', 'count': '577'}, {'id': '4.', 'name': 'Liczba wyborców, którym wydano karty do głosowania (liczba podpisów w spisie oraz adnotacje „odmowa podpisu”)', 'count': '636'}, {'id': '4a.', 'name': 'w tym w części A spisu wyborców (obywatele polscy)', 'count': '636'}, {'id': '4b.', 'name': 'w tym w części B spisu wyborców (obywatele UE niebędący obywatelami polskimi)', 'count': '0'}, {'id': '5.', 'name': 'Liczba wyborców głosujących przez pełnomocnika (liczba kart do głosowania wydanych na podstawie otrzymanych przez komisję aktów pełnomocnictwa)', 'count': '0'}, {'id': '6.', 'name': 'Liczba wyborców głosujących na podstawie zaświadczenia o prawie do głosowania', 'count': '1'}, {'id': '7.', 'name': 'Liczba wyborców, którym wysłano pakiety wyborcze', 'count': '0'}, {'id': '8.', 'name': 'Liczba otrzymanych kopert zwrotnych', 'count': '0'}, {'id': '8a.', 'name': 'Liczba kopert zwrotnych, w których nie było oświadczenia o osobistym i tajnym oddaniu głosu', 'count': '0'}, {'id': '8b.', 'name': 'Liczba kopert zwrotnych, w których oświadczenie nie było podpisane przez wyborcę', 'count': '0'}, {'id': '8c.', 'name': 'Liczba kopert zwrotnych, w których nie było koperty na kartę do głosowania', 'count': '0'}, {'id': '8d.', 'name': 'Liczba kopert zwrotnych, w których znajdowała się niezaklejona koperta na kartę do głosowania', 'count': '0'}, {'id': '8e.', 'name': 'Liczba kopert na kartę do głosowania wrzuconych do urny', 'count': '0'}, {'id': '9.', 'name': 'Liczba kart wyjętych z urny', 'count': '636'}, {'id': '9a.', 'name': 'w tym liczba kart wyjętych z kopert na karty do głosowania', 'count': '0'}, {'id': '10.', 'name': 'Liczba kart nieważnych (innych niż urzędowo ustalone lub nieopatrzonych pieczęcią obwodowej komisji wyborczej)', 'count': '0'}, {'id': '11.', 'name': 'Liczba kart ważnych', 'count': '636'}, {'id': '12.', 'name': 'Liczba głosów nieważnych (z kart ważnych)', 'count': '1'}, {'id': '12a.', 'name': 'w tym z powodu postawienia znaku „X” obok nazwiska dwóch lub większej liczby kandydatów z różnych list', 'count': '1'}, {'id': '12b.', 'name': 'w tym z powodu niepostawienia znaku „X” obok nazwiska żadnego kandydata', 'count': '0'}, {'id': '12c.', 'name': 'w tym z powodu postawienia znaku „X” wyłącznie obok nazwiska kandydata na liście, której rejestracja została unieważniona', 'count': '0'}, {'id': '13.', 'name': 'Liczba głosów ważnych oddanych łącznie na wszystkie listy kandydatów (z kart ważnych)', 'count': '635'}], 'lists': <selenium.webdriver.remote.webelement.WebElement (session=\"b9a0fed4623f599f004c239d7453f646\", element=\"0.2939654334852202-106\")>}\n"
     ]
    }
   ],
   "source": [
    "def extract_card(card_web_element):\n",
    "    tds = card_web_element.find_elements_by_css_selector('td')\n",
    "    card = {}\n",
    "    card['id'] = tds[0].text\n",
    "    card['name'] = tds[1].text\n",
    "    card['count'] = tds[2].text\n",
    "    return card\n",
    "\n",
    "def get_protocol_data(protocol_id):\n",
    "    driver.get('https://wybory.gov.pl/pe2019/pl/wyniki/protokol/' + protocol_id)\n",
    "    info = driver.find_element_by_xpath('//div[contains(@class, \"pro\")]/dl[contains(@class, \"info\")]')\n",
    "    print (info.get_attribute('outerHTML'))\n",
    "    cards = driver.find_elements_by_css_selector(\"div.cards table tbody tr\")\n",
    "    cards = list(map(lambda card: extract_card(card), cards))\n",
    "    lists = driver.find_element_by_css_selector(\"div.lists\")\n",
    "    print (lists.get_attribute('outerHTML'))\n",
    "    \n",
    "    protocol = {}\n",
    "    protocol['info'] = info\n",
    "    protocol['cards'] = cards\n",
    "    protocol['lists'] = lists\n",
    "    return protocol\n",
    "print(get_protocol_data('457895'))"
   ]
  }
 ],
 "metadata": {
  "kernelspec": {
   "display_name": "Python 3",
   "language": "python",
   "name": "python3"
  },
  "language_info": {
   "codemirror_mode": {
    "name": "ipython",
    "version": 3
   },
   "file_extension": ".py",
   "mimetype": "text/x-python",
   "name": "python",
   "nbconvert_exporter": "python",
   "pygments_lexer": "ipython3",
   "version": "3.7.3"
  }
 },
 "nbformat": 4,
 "nbformat_minor": 2
}
