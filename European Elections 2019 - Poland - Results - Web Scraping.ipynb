{
 "cells": [
  {
   "cell_type": "markdown",
   "metadata": {},
   "source": [
    "https://wybory.gov.pl/pe2019/pl/wyniki/protokol/485230\n",
    "\n",
    "https://selenium-python.readthedocs.io/api.html\n",
    "\n",
    "https://stackoverflow.com/questions/23110383/how-to-dynamically-build-a-json-object-with-python\n",
    "\n",
    "Install chromedriver"
   ]
  },
  {
   "cell_type": "code",
   "execution_count": null,
   "metadata": {},
   "outputs": [],
   "source": []
  },
  {
   "cell_type": "code",
   "execution_count": 114,
   "metadata": {},
   "outputs": [],
   "source": [
    "import pandas as pd\n",
    "from selenium import webdriver\n",
    "import os\n",
    "import json\n",
    "\n",
    "projectDirectory = \"/Users/nataliakusek/PycharmProjects/european-elections-2019-poland\""
   ]
  },
  {
   "cell_type": "code",
   "execution_count": 160,
   "metadata": {},
   "outputs": [],
   "source": [
    "options = webdriver.ChromeOptions() \n",
    "options.add_argument('headless')\n",
    "driver = webdriver.Chrome(options=options)"
   ]
  },
  {
   "cell_type": "code",
   "execution_count": 74,
   "metadata": {},
   "outputs": [],
   "source": [
    "obwody_glosowania = pd.read_csv(os.path.join(projectDirectory, 'dane_statyczne', 'obwody_glosowania.csv'), sep = ';')"
   ]
  },
  {
   "cell_type": "code",
   "execution_count": 92,
   "metadata": {},
   "outputs": [
    {
     "name": "stdout",
     "output_type": "stream",
     "text": [
      "[ 20101  20102  20103 ... 326101 326201 326301]\n"
     ]
    }
   ],
   "source": [
    "TERYT_codes = obwody_glosowania['TERYT gminy'].unique()\n",
    "print(TERYT_codes)"
   ]
  },
  {
   "cell_type": "code",
   "execution_count": 93,
   "metadata": {},
   "outputs": [
    {
     "name": "stdout",
     "output_type": "stream",
     "text": [
      "['457895', '457896', '457897', '457898', '457899', '457900', '457901', '457902', '457903', '457904', '457905', '457906', '457907', '457908', '457909', '457910', '457911', '457912', '457913', '457914', '457915', '485228', '485229', '485230']\n"
     ]
    }
   ],
   "source": [
    "def get_protocols_ids(gmina_id):\n",
    "    driver.get('https://wybory.gov.pl/pe2019/pl/wyniki/gm/' + gmina_id)\n",
    "    results = driver.find_elements_by_css_selector(\"div.proto tbody tr\")\n",
    "    return list(map(lambda elem: elem.get_attribute(\"data-id\"), results))\n",
    "    \n",
    "print(get_protocols_ids('20101'))"
   ]
  },
  {
   "cell_type": "code",
   "execution_count": 100,
   "metadata": {},
   "outputs": [
    {
     "name": "stdout",
     "output_type": "stream",
     "text": [
      "{'id': '457895', 'info': {'Siedziba': 'Szkoła Podstawowa Nr 3, ul. Ceramiczna 5, 59-700 Bolesławiec', 'Numer': '1', 'Okręg wyborczy': 'Nr 12 [Wrocław]', 'Kod TERYT': '020101', 'Województwo': 'dolnośląskie', 'Powiat': 'bolesławiecki', 'Gmina': 'm. Bolesławiec'}, 'cards': [{'id': '1.', 'name': 'Komisja otrzymała kart do głosowania', 'count': '1213'}, {'id': '2.', 'name': 'Liczba wyborców uprawnionych do głosowania (umieszczonych w spisie, z uwzględnieniem dodatkowych formularzy) w chwili zakończenia głosowania', 'count': '1543'}, {'id': '2a.', 'name': 'w tym umieszczonych w części A spisu wyborców (obywatele polscy)', 'count': '1543'}, {'id': '2b.', 'name': 'w tym umieszczonych w części B spisu wyborców (obywatele UE niebędący obywatelami polskimi)', 'count': '0'}, {'id': '3.', 'name': 'Nie wykorzystano kart do głosowania', 'count': '577'}, {'id': '4.', 'name': 'Liczba wyborców, którym wydano karty do głosowania (liczba podpisów w spisie oraz adnotacje „odmowa podpisu”)', 'count': '636'}, {'id': '4a.', 'name': 'w tym w części A spisu wyborców (obywatele polscy)', 'count': '636'}, {'id': '4b.', 'name': 'w tym w części B spisu wyborców (obywatele UE niebędący obywatelami polskimi)', 'count': '0'}, {'id': '5.', 'name': 'Liczba wyborców głosujących przez pełnomocnika (liczba kart do głosowania wydanych na podstawie otrzymanych przez komisję aktów pełnomocnictwa)', 'count': '0'}, {'id': '6.', 'name': 'Liczba wyborców głosujących na podstawie zaświadczenia o prawie do głosowania', 'count': '1'}, {'id': '7.', 'name': 'Liczba wyborców, którym wysłano pakiety wyborcze', 'count': '0'}, {'id': '8.', 'name': 'Liczba otrzymanych kopert zwrotnych', 'count': '0'}, {'id': '8a.', 'name': 'Liczba kopert zwrotnych, w których nie było oświadczenia o osobistym i tajnym oddaniu głosu', 'count': '0'}, {'id': '8b.', 'name': 'Liczba kopert zwrotnych, w których oświadczenie nie było podpisane przez wyborcę', 'count': '0'}, {'id': '8c.', 'name': 'Liczba kopert zwrotnych, w których nie było koperty na kartę do głosowania', 'count': '0'}, {'id': '8d.', 'name': 'Liczba kopert zwrotnych, w których znajdowała się niezaklejona koperta na kartę do głosowania', 'count': '0'}, {'id': '8e.', 'name': 'Liczba kopert na kartę do głosowania wrzuconych do urny', 'count': '0'}, {'id': '9.', 'name': 'Liczba kart wyjętych z urny', 'count': '636'}, {'id': '9a.', 'name': 'w tym liczba kart wyjętych z kopert na karty do głosowania', 'count': '0'}, {'id': '10.', 'name': 'Liczba kart nieważnych (innych niż urzędowo ustalone lub nieopatrzonych pieczęcią obwodowej komisji wyborczej)', 'count': '0'}, {'id': '11.', 'name': 'Liczba kart ważnych', 'count': '636'}, {'id': '12.', 'name': 'Liczba głosów nieważnych (z kart ważnych)', 'count': '1'}, {'id': '12a.', 'name': 'w tym z powodu postawienia znaku „X” obok nazwiska dwóch lub większej liczby kandydatów z różnych list', 'count': '1'}, {'id': '12b.', 'name': 'w tym z powodu niepostawienia znaku „X” obok nazwiska żadnego kandydata', 'count': '0'}, {'id': '12c.', 'name': 'w tym z powodu postawienia znaku „X” wyłącznie obok nazwiska kandydata na liście, której rejestracja została unieważniona', 'count': '0'}, {'id': '13.', 'name': 'Liczba głosów ważnych oddanych łącznie na wszystkie listy kandydatów (z kart ważnych)', 'count': '635'}], 'lists': [{'name': 'Nr listy 1 - KOMITET WYBORCZY WYBORCÓW KONFEDERACJA KORWIN BRAUN LIROY NARODOWCY', 'candidates': [{'name': 'IWASZKIEWICZ Robert Jarosław', 'votes': '12'}, {'name': 'ŻUREK Piotr Grzegorz', 'votes': '0'}, {'name': 'POPLICHA Dagmara Ewa', 'votes': '0'}, {'name': 'SZKARUPSKI Daniel', 'votes': '0'}, {'name': 'CZERNIAK Hubert Stanisław', 'votes': '14'}, {'name': 'GIELERT Katarzyna Zofia', 'votes': '0'}, {'name': 'JARMUŁOWICZ Lidia Maria', 'votes': '0'}, {'name': 'BIELECKA Halszka Beata', 'votes': '0'}, {'name': 'DASZYŃSKA-HERCUŃ Anna Maria', 'votes': '0'}, {'name': 'KORWIN-MIKKE Janusz Ryszard', 'votes': '9'}], 'total votes': '35'}, {'name': 'Nr listy 2 - KOMITET WYBORCZY WIOSNA ROBERTA BIEDRONIA', 'candidates': [{'name': 'ŚMISZEK Krzysztof Jan', 'votes': '21'}, {'name': 'LUBINIECKA-RÓŻYŁO Katarzyna Elżbieta', 'votes': '5'}, {'name': 'CHOJNOWSKI Szymon Piotr', 'votes': '3'}, {'name': 'MIGOCZ Izabela Monika', 'votes': '1'}, {'name': 'SYSKA Michał Jan', 'votes': '1'}, {'name': 'LEMPART Marta Mirosława', 'votes': '6'}, {'name': 'PILC Jarosław Stanisław', 'votes': '1'}, {'name': 'ODROWSKA Katarzyna', 'votes': '1'}, {'name': 'ZATKA Natalia Iwona', 'votes': '1'}, {'name': 'KOTARBA Mariusz', 'votes': '0'}], 'total votes': '40'}, {'name': 'Nr listy 3 - KOALICYJNY KOMITET WYBORCZY KOALICJA EUROPEJSKA PO PSL SLD .N ZIELONI', 'candidates': [{'name': 'OCHOJSKA-OKOŃSKA Janina Maria', 'votes': '167'}, {'name': 'DUDA Jarosław', 'votes': '23'}, {'name': 'SEKUŁA-SZMAJDZIŃSKA Małgorzata Helena', 'votes': '52'}, {'name': 'BUŁA Andrzej', 'votes': '2'}, {'name': 'ROKICKA Julia Agata', 'votes': '5'}, {'name': 'MRZYGŁOCKA Izabela Katarzyna', 'votes': '2'}, {'name': 'KOZAKIEWICZ Władysław', 'votes': '4'}, {'name': 'STĘPIEŃ Elżbieta Krystyna', 'votes': '2'}, {'name': 'PROROK Genowefa Katarzyna', 'votes': '0'}, {'name': 'MIESZKOWSKI Krzysztof', 'votes': '7'}], 'total votes': '264'}, {'name': 'Nr listy 4 - KOMITET WYBORCZY PRAWO I SPRAWIEDLIWOŚĆ', 'candidates': [{'name': 'ZALEWSKA Anna Elżbieta', 'votes': '111'}, {'name': 'KEMPA Beata Agnieszka', 'votes': '110'}, {'name': 'KŁOSOWSKI Sławomir', 'votes': '12'}, {'name': 'KISIELEWICZ Andrzej Marian', 'votes': '3'}, {'name': 'SZWED Aleksander Jakub', 'votes': '4'}, {'name': 'ŚLUSARZ Rafał Józef', 'votes': '9'}, {'name': 'CZOCHARA Katarzyna Beata', 'votes': '2'}, {'name': 'BACZYŃSKI Jacek Marcin', 'votes': '5'}, {'name': 'ŻOŁNIERUK Beata Izabela', 'votes': '0'}, {'name': 'STACHOWIAK-RÓŻECKA Mirosława Agnieszka', 'votes': '7'}], 'total votes': '263'}, {'name': 'Nr listy 5 - KOALICYJNY KOMITET WYBORCZY LEWICA RAZEM - PARTIA RAZEM, UNIA PRACY, RSS', 'candidates': [{'name': 'ZAWISZA Marcelina Monika', 'votes': '4'}, {'name': 'PRZYSTAJKO Jerzy', 'votes': '0'}, {'name': 'PIWCEWICZ Jolanta Anna', 'votes': '0'}, {'name': 'BROWARNY Wojciech Jan', 'votes': '0'}, {'name': 'JAROŃSKA Kamila Maria', 'votes': '0'}, {'name': 'MAKÓWKA Jacek Edward', 'votes': '0'}, {'name': 'STABROWSKA Anna Ewa', 'votes': '0'}, {'name': 'DROST Andrzej Oswald', 'votes': '0'}, {'name': 'BURAKOWSKA Krystyna Anna', 'votes': '0'}, {'name': 'CHUDY Filip', 'votes': '0'}], 'total votes': '4'}, {'name': \"Nr listy 6 - KOMITET WYBORCZY WYBORCÓW KUKIZ'15\", 'candidates': [{'name': 'ŚCIGAJ Agnieszka', 'votes': '8'}, {'name': 'GRABOWSKI Paweł', 'votes': '6'}, {'name': 'MAZUR Aneta', 'votes': '4'}, {'name': 'KUBALA Marek Zdzisław', 'votes': '2'}, {'name': 'LICZNAR Katarzyna Anna', 'votes': '0'}, {'name': 'CHARYTONIUK Gracjan', 'votes': '0'}, {'name': 'OLSZEWSKA Małgorzata', 'votes': '2'}, {'name': 'JAGIEŁŁO Wojciech Jan', 'votes': '3'}, {'name': 'ZYCH Anna', 'votes': '4'}, {'name': 'KRÓLAK Marcin Stanisław', 'votes': '0'}], 'total votes': '29'}]}\n"
     ]
    }
   ],
   "source": [
    "def extract_card(card_web_element):\n",
    "    tds = card_web_element.find_elements_by_css_selector('td')\n",
    "    card = {}\n",
    "    card['id'] = tds[0].text\n",
    "    card['name'] = tds[1].text\n",
    "    card['count'] = tds[2].text\n",
    "    return card\n",
    "\n",
    "def extract_info(info_web_element):\n",
    "    dds = info_web_element.find_elements_by_css_selector('dd')\n",
    "    info = {}\n",
    "    info['Siedziba'] = dds[0].text\n",
    "    info['Numer'] = dds[1].text\n",
    "    info['Okręg wyborczy'] = dds[2].text\n",
    "    info['Kod TERYT'] = dds[3].text\n",
    "    info['Województwo'] = dds[4].text\n",
    "    info['Powiat'] = dds[5].text\n",
    "    info['Gmina'] = dds[6].text\n",
    "    return info\n",
    "\n",
    "def extract_candidate(candidate_web_element):\n",
    "    tds = candidate_web_element.find_elements_by_css_selector('td')\n",
    "    candidate = {}\n",
    "    candidate['name'] = tds[1].text\n",
    "    candidate['votes'] = tds[2].text\n",
    "    return candidate\n",
    "\n",
    "def extract_list(list_web_element):\n",
    "    trs = list_web_element.find_elements_by_css_selector('tbody tr')\n",
    "    foot = list_web_element.find_elements_by_css_selector('tfoot tr td')\n",
    "    h3 = list_web_element.find_elements_by_css_selector('h3')\n",
    "    lists = {}\n",
    "    lists['name'] = h3[0].text\n",
    "    lists['candidates'] = list(map(lambda candidate: extract_candidate(candidate), trs))\n",
    "    lists['total votes'] = foot[2].text\n",
    "    return lists\n",
    "\n",
    "def get_protocol_data(protocol_id):\n",
    "    driver.get('https://wybory.gov.pl/pe2019/pl/wyniki/protokol/' + protocol_id)\n",
    "    info = driver.find_element_by_xpath('//div[contains(@class, \"pro\")]/dl[contains(@class, \"info\")]')\n",
    "    info = extract_info(info)\n",
    "    cards = driver.find_elements_by_css_selector(\"div.cards table tbody tr\")\n",
    "    cards = list(map(lambda card: extract_card(card), cards))\n",
    "    lists = driver.find_elements_by_css_selector(\"div.lists > div\")\n",
    "    lists = list(map(lambda list: extract_list(list), lists))\n",
    "    \n",
    "    protocol = {}\n",
    "    protocol['id'] = protocol_id\n",
    "    protocol['info'] = info\n",
    "    protocol['cards'] = cards\n",
    "    protocol['lists'] = lists\n",
    "    return protocol\n",
    "\n",
    "print(get_protocol_data('457895'))"
   ]
  },
  {
   "cell_type": "code",
   "execution_count": 163,
   "metadata": {},
   "outputs": [],
   "source": [
    "for gmina_id in TERYT_codes[:2]:\n",
    "    if not os.path.isfile(os.path.join(projectDirectory, 'wyniki', '{}.json'.format(gmina_id))):\n",
    "        gmina_protocols = {}\n",
    "        protocol_ids = get_protocols_ids(str(gmina_id))\n",
    "        for protocol_id in protocol_ids:\n",
    "            protocol_data = get_protocol_data(protocol_id)\n",
    "            gmina_protocols[protocol_id] = protocol_data\n",
    "        with open(os.path.join(projectDirectory, 'wyniki', '{}.json'.format(gmina_id)), 'w', encoding='utf8') as gmina_protocol:\n",
    "            json.dump(gmina_protocols, gmina_protocol, ensure_ascii=False)\n"
   ]
  },
  {
   "cell_type": "code",
   "execution_count": 137,
   "metadata": {},
   "outputs": [],
   "source": [
    "path = os.getcwd()"
   ]
  },
  {
   "cell_type": "code",
   "execution_count": null,
   "metadata": {},
   "outputs": [],
   "source": [
    "{\n",
    "    \"id\": 457895,\n",
    "    \"info\": {\n",
    "        \"Siedziba\": \"Szkoła Podstawowa Nr 3, ul. Ceramiczna 5, 59-700 Bolesławiec\",\n",
    "        ...\n",
    "    },\n",
    "    \"cards\": [\n",
    "        {'id': '1.', 'name': 'Komisja otrzymała kart do głosowania', 'count': '1213'}, \n",
    "        {'id': '2.', 'name': 'Liczba wyborców uprawnionych do głosowania (umieszczonych w spisie, z uwzględnieniem dodatkowych formularzy) w chwili zakończenia głosowania', 'count': '1543'}, \n",
    "        {'id': '2a.', 'name': 'w tym umieszczonych w części A spisu wyborców (obywatele polscy)', 'count': '1543'}, {'id': '2b.', 'name': 'w tym umieszczonych w części B spisu wyborców (obywatele UE niebędący obywatelami polskimi)', 'count': '0'}, {'id': '3.', 'name': 'Nie wykorzystano kart do głosowania', 'count': '577'}, {'id': '4.', 'name': 'Liczba wyborców, którym wydano karty do głosowania (liczba podpisów w spisie oraz adnotacje „odmowa podpisu”)', 'count': '636'}, {'id': '4a.', 'name': 'w tym w części A spisu wyborców (obywatele polscy)', 'count': '636'}, {'id': '4b.', 'name': 'w tym w części B spisu wyborców (obywatele UE niebędący obywatelami polskimi)', 'count': '0'}, {'id': '5.', 'name': 'Liczba wyborców głosujących przez pełnomocnika (liczba kart do głosowania wydanych na podstawie otrzymanych przez komisję aktów pełnomocnictwa)', 'count': '0'}, {'id': '6.', 'name': 'Liczba wyborców głosujących na podstawie zaświadczenia o prawie do głosowania', 'count': '1'}, {'id': '7.', 'name': 'Liczba wyborców, którym wysłano pakiety wyborcze', 'count': '0'}, {'id': '8.', 'name': 'Liczba otrzymanych kopert zwrotnych', 'count': '0'}, {'id': '8a.', 'name': 'Liczba kopert zwrotnych, w których nie było oświadczenia o osobistym i tajnym oddaniu głosu', 'count': '0'}, {'id': '8b.', 'name': 'Liczba kopert zwrotnych, w których oświadczenie nie było podpisane przez wyborcę', 'count': '0'}, {'id': '8c.', 'name': 'Liczba kopert zwrotnych, w których nie było koperty na kartę do głosowania', 'count': '0'}, {'id': '8d.', 'name': 'Liczba kopert zwrotnych, w których znajdowała się niezaklejona koperta na kartę do głosowania', 'count': '0'}, {'id': '8e.', 'name': 'Liczba kopert na kartę do głosowania wrzuconych do urny', 'count': '0'}, {'id': '9.', 'name': 'Liczba kart wyjętych z urny', 'count': '636'}, {'id': '9a.', 'name': 'w tym liczba kart wyjętych z kopert na karty do głosowania', 'count': '0'}, {'id': '10.', 'name': 'Liczba kart nieważnych (innych niż urzędowo ustalone lub nieopatrzonych pieczęcią obwodowej komisji wyborczej)', 'count': '0'}, {'id': '11.', 'name': 'Liczba kart ważnych', 'count': '636'}, {'id': '12.', 'name': 'Liczba głosów nieważnych (z kart ważnych)', 'count': '1'}, {'id': '12a.', 'name': 'w tym z powodu postawienia znaku „X” obok nazwiska dwóch lub większej liczby kandydatów z różnych list', 'count': '1'}, {'id': '12b.', 'name': 'w tym z powodu niepostawienia znaku „X” obok nazwiska żadnego kandydata', 'count': '0'}, {'id': '12c.', 'name': 'w tym z powodu postawienia znaku „X” wyłącznie obok nazwiska kandydata na liście, której rejestracja została unieważniona', 'count': '0'}, {'id': '13.', 'name': 'Liczba głosów ważnych oddanych łącznie na wszystkie listy kandydatów (z kart ważnych)', 'count': '635'}\n",
    "    ],\n",
    "    \"lists\": [\n",
    "        {\n",
    "            'name': \"KOMITET WYBORCZY WYBORCÓW KONFEDERACJA KORWIN BRAUN LIROY NARODOWCY\" ,\n",
    "            'candidates': [\n",
    "                { 'name': \"IWASZKIEWICZ Robert Jarosław\", 'votes': 12 }\n",
    "            ]\n",
    "            'totalVotes': 35\n",
    "        },\n",
    "        ...\n",
    "    ]\n",
    "}"
   ]
  }
 ],
 "metadata": {
  "kernelspec": {
   "display_name": "Python 3",
   "language": "python",
   "name": "python3"
  },
  "language_info": {
   "codemirror_mode": {
    "name": "ipython",
    "version": 3
   },
   "file_extension": ".py",
   "mimetype": "text/x-python",
   "name": "python",
   "nbconvert_exporter": "python",
   "pygments_lexer": "ipython3",
   "version": "3.7.3"
  }
 },
 "nbformat": 4,
 "nbformat_minor": 2
}
